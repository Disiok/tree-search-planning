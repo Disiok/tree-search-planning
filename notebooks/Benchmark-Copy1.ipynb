{
 "cells": [
  {
   "cell_type": "code",
   "execution_count": 1,
   "metadata": {},
   "outputs": [],
   "source": [
    "import os\n",
    "import json\n",
    "import pandas as pd\n",
    "from pathlib import Path\n",
    "import numpy as np"
   ]
  },
  {
   "cell_type": "code",
   "execution_count": 2,
   "metadata": {},
   "outputs": [],
   "source": [
    "root_dir = Path('/scratch/ssd002/home/kelvin/projects/mcts_planner/tsp2/baselines/results')"
   ]
  },
  {
   "cell_type": "code",
   "execution_count": 3,
   "metadata": {},
   "outputs": [],
   "source": [
    "evaluations = []\n",
    "for model in os.listdir(root_dir):\n",
    "    if model not in [\"ppo\", \"a2c\", \"random\"]:\n",
    "        continue\n",
    "    for env in os.listdir(root_dir / model):\n",
    "        for run in os.listdir(root_dir / model / env):\n",
    "            try:\n",
    "                stats_json = next((root_dir / model / env / run).glob('*.stats.json'))\n",
    "                evaluations.append([env, model, run, stats_json])\n",
    "            except:\n",
    "                pass"
   ]
  },
  {
   "cell_type": "code",
   "execution_count": 4,
   "metadata": {},
   "outputs": [
    {
     "data": {
      "text/html": [
       "<div>\n",
       "<style scoped>\n",
       "    .dataframe tbody tr th:only-of-type {\n",
       "        vertical-align: middle;\n",
       "    }\n",
       "\n",
       "    .dataframe tbody tr th {\n",
       "        vertical-align: top;\n",
       "    }\n",
       "\n",
       "    .dataframe thead th {\n",
       "        text-align: right;\n",
       "    }\n",
       "</style>\n",
       "<table border=\"1\" class=\"dataframe\">\n",
       "  <thead>\n",
       "    <tr style=\"text-align: right;\">\n",
       "      <th></th>\n",
       "      <th>env</th>\n",
       "      <th>model</th>\n",
       "      <th>run</th>\n",
       "      <th>stats_json</th>\n",
       "    </tr>\n",
       "  </thead>\n",
       "  <tbody>\n",
       "    <tr>\n",
       "      <th>0</th>\n",
       "      <td>highway</td>\n",
       "      <td>a2c</td>\n",
       "      <td>2021-04-11--03-42-11</td>\n",
       "      <td>/scratch/ssd002/home/kelvin/projects/mcts_plan...</td>\n",
       "    </tr>\n",
       "    <tr>\n",
       "      <th>1</th>\n",
       "      <td>roundabout</td>\n",
       "      <td>a2c</td>\n",
       "      <td>2021-04-11--02-03-54</td>\n",
       "      <td>/scratch/ssd002/home/kelvin/projects/mcts_plan...</td>\n",
       "    </tr>\n",
       "    <tr>\n",
       "      <th>2</th>\n",
       "      <td>crossmerge</td>\n",
       "      <td>a2c</td>\n",
       "      <td>2021-04-13--23-57-05</td>\n",
       "      <td>/scratch/ssd002/home/kelvin/projects/mcts_plan...</td>\n",
       "    </tr>\n",
       "    <tr>\n",
       "      <th>3</th>\n",
       "      <td>crossmerge</td>\n",
       "      <td>ppo</td>\n",
       "      <td>2021-04-14--00-02-36</td>\n",
       "      <td>/scratch/ssd002/home/kelvin/projects/mcts_plan...</td>\n",
       "    </tr>\n",
       "    <tr>\n",
       "      <th>4</th>\n",
       "      <td>highway</td>\n",
       "      <td>ppo</td>\n",
       "      <td>2021-04-11--03-46-49</td>\n",
       "      <td>/scratch/ssd002/home/kelvin/projects/mcts_plan...</td>\n",
       "    </tr>\n",
       "  </tbody>\n",
       "</table>\n",
       "</div>"
      ],
      "text/plain": [
       "          env model                   run  \\\n",
       "0     highway   a2c  2021-04-11--03-42-11   \n",
       "1  roundabout   a2c  2021-04-11--02-03-54   \n",
       "2  crossmerge   a2c  2021-04-13--23-57-05   \n",
       "3  crossmerge   ppo  2021-04-14--00-02-36   \n",
       "4     highway   ppo  2021-04-11--03-46-49   \n",
       "\n",
       "                                          stats_json  \n",
       "0  /scratch/ssd002/home/kelvin/projects/mcts_plan...  \n",
       "1  /scratch/ssd002/home/kelvin/projects/mcts_plan...  \n",
       "2  /scratch/ssd002/home/kelvin/projects/mcts_plan...  \n",
       "3  /scratch/ssd002/home/kelvin/projects/mcts_plan...  \n",
       "4  /scratch/ssd002/home/kelvin/projects/mcts_plan...  "
      ]
     },
     "execution_count": 4,
     "metadata": {},
     "output_type": "execute_result"
    }
   ],
   "source": [
    "evaluations_df = pd.DataFrame(evaluations, columns=['env', 'model', 'run', 'stats_json'])\n",
    "evaluations_df.head()"
   ]
  },
  {
   "cell_type": "code",
   "execution_count": 5,
   "metadata": {},
   "outputs": [],
   "source": [
    "def get_stats(stats_json):\n",
    "    with open(stats_json) as f:\n",
    "        stats = json.load(f)\n",
    "    return stats"
   ]
  },
  {
   "cell_type": "code",
   "execution_count": 6,
   "metadata": {},
   "outputs": [],
   "source": [
    "evaluations_df['stats_dict'] = evaluations_df['stats_json'].apply(get_stats)"
   ]
  },
  {
   "cell_type": "code",
   "execution_count": 7,
   "metadata": {},
   "outputs": [],
   "source": [
    "def mean_episode_length(stat_dict):\n",
    "    return np.mean(stat_dict['episode_lengths'])\n",
    "\n",
    "def std_episode_length(stat_dict):\n",
    "    return np.std(stat_dict['episode_lengths'])\n",
    "\n",
    "def mean_total_reward(stat_dict):\n",
    "    return np.mean(stat_dict['episode_rewards'])\n",
    "\n",
    "def std_total_reward(stat_dict):\n",
    "    return np.std(stat_dict['episode_rewards'])\n",
    "\n",
    "def mean_episode_velocity(stat_dict):\n",
    "    return np.mean(list(map(np.mean, stat_dict['episode_speed'])))\n",
    "\n",
    "def std_episode_velocity(stat_dict):\n",
    "    return np.std(list(map(np.mean, stat_dict['episode_speed'])))\n",
    "\n",
    "def episode_crashed(stat_dict):\n",
    "    return np.mean(list(map(np.any, stat_dict['episode_crashed'])))"
   ]
  },
  {
   "cell_type": "code",
   "execution_count": 8,
   "metadata": {},
   "outputs": [],
   "source": [
    "evaluations_df['mean_episode_length'] = evaluations_df['stats_dict'].apply(mean_episode_length)\n",
    "evaluations_df['mean_episode_reward'] = evaluations_df['stats_dict'].apply(mean_total_reward)\n",
    "evaluations_df['mean_episode_velocity'] = evaluations_df['stats_dict'].apply(mean_episode_velocity)\n",
    "evaluations_df['mean_episode_crashed'] = evaluations_df['stats_dict'].apply(episode_crashed)\n",
    "\n",
    "evaluations_df['std_episode_length'] = evaluations_df['stats_dict'].apply(std_episode_length)\n",
    "evaluations_df['std_episode_reward'] = evaluations_df['stats_dict'].apply(std_total_reward)\n",
    "evaluations_df['std_episode_velocity'] = evaluations_df['stats_dict'].apply(std_episode_velocity)"
   ]
  },
  {
   "cell_type": "code",
   "execution_count": 9,
   "metadata": {},
   "outputs": [
    {
     "data": {
      "text/plain": [
       "env\n",
       "crossmerge    AxesSubplot(0.125,0.125;0.775x0.755)\n",
       "highway       AxesSubplot(0.125,0.125;0.775x0.755)\n",
       "roundabout    AxesSubplot(0.125,0.125;0.775x0.755)\n",
       "dtype: object"
      ]
     },
     "execution_count": 9,
     "metadata": {},
     "output_type": "execute_result"
    },
    {
     "data": {
      "image/png": "[encoded data removed]",
      "text/plain": [
       "<Figure size 432x288 with 1 Axes>"
      ]
     },
     "metadata": {
      "needs_background": "light"
     },
     "output_type": "display_data"
    },
    {
     "data": {
      "image/png": "[encoded data removed]",
      "text/plain": [
       "<Figure size 432x288 with 1 Axes>"
      ]
     },
     "metadata": {
      "needs_background": "light"
     },
     "output_type": "display_data"
    },
    {
     "data": {
      "image/png": "[encoded data removed]",
      "text/plain": [
       "<Figure size 432x288 with 1 Axes>"
      ]
     },
     "metadata": {
      "needs_background": "light"
     },
     "output_type": "display_data"
    }
   ],
   "source": [
    "evaluations_df.groupby('env').plot.bar()"
   ]
  },
  {
   "cell_type": "code",
   "execution_count": 50,
   "metadata": {},
   "outputs": [],
   "source": [
    "csv = evaluations_df.groupby('env').mean().to_csv()\n",
    "with open(\"/h/kelvin/muzero_highway_env.csv\", \"w\") as f:\n",
    "    f.write(csv)"
   ]
  },
  {
   "cell_type": "code",
   "execution_count": 51,
   "metadata": {},
   "outputs": [],
   "source": [
    "csv = evaluations_df.groupby('env').std().to_csv()\n",
    "with open(\"/h/kelvin/muzero_highway_env_std.csv\", \"w\") as f:\n",
    "    f.write(csv)"
   ]
  },
  {
   "cell_type": "code",
   "execution_count": 14,
   "metadata": {},
   "outputs": [
    {
     "data": {
      "text/html": [
       "<div>\n",
       "<style scoped>\n",
       "    .dataframe tbody tr th:only-of-type {\n",
       "        vertical-align: middle;\n",
       "    }\n",
       "\n",
       "    .dataframe tbody tr th {\n",
       "        vertical-align: top;\n",
       "    }\n",
       "\n",
       "    .dataframe thead th {\n",
       "        text-align: right;\n",
       "    }\n",
       "</style>\n",
       "<table border=\"1\" class=\"dataframe\">\n",
       "  <thead>\n",
       "    <tr style=\"text-align: right;\">\n",
       "      <th></th>\n",
       "      <th>mean_episode_length</th>\n",
       "      <th>mean_episode_reward</th>\n",
       "    </tr>\n",
       "    <tr>\n",
       "      <th>env</th>\n",
       "      <th></th>\n",
       "      <th></th>\n",
       "    </tr>\n",
       "  </thead>\n",
       "  <tbody>\n",
       "    <tr>\n",
       "      <th>highway</th>\n",
       "      <td>34.23</td>\n",
       "      <td>24.581163</td>\n",
       "    </tr>\n",
       "    <tr>\n",
       "      <th>roundabout</th>\n",
       "      <td>10.83</td>\n",
       "      <td>9.160000</td>\n",
       "    </tr>\n",
       "  </tbody>\n",
       "</table>\n",
       "</div>"
      ],
      "text/plain": [
       "            mean_episode_length  mean_episode_reward\n",
       "env                                                 \n",
       "highway                   34.23            24.581163\n",
       "roundabout                10.83             9.160000"
      ]
     },
     "execution_count": 14,
     "metadata": {},
     "output_type": "execute_result"
    }
   ],
   "source": [
    "evaluations_df.groupby('env').mean()"
   ]
  },
  {
   "cell_type": "code",
   "execution_count": 10,
   "metadata": {},
   "outputs": [
    {
     "data": {
      "text/html": [
       "<div>\n",
       "<style scoped>\n",
       "    .dataframe tbody tr th:only-of-type {\n",
       "        vertical-align: middle;\n",
       "    }\n",
       "\n",
       "    .dataframe tbody tr th {\n",
       "        vertical-align: top;\n",
       "    }\n",
       "\n",
       "    .dataframe thead th {\n",
       "        text-align: right;\n",
       "    }\n",
       "</style>\n",
       "<table border=\"1\" class=\"dataframe\">\n",
       "  <thead>\n",
       "    <tr style=\"text-align: right;\">\n",
       "      <th></th>\n",
       "      <th>env</th>\n",
       "      <th>model</th>\n",
       "      <th>mean_episode_length</th>\n",
       "      <th>mean_episode_reward</th>\n",
       "      <th>mean_episode_velocity</th>\n",
       "      <th>mean_episode_crashed</th>\n",
       "      <th>std_episode_length</th>\n",
       "      <th>std_episode_reward</th>\n",
       "      <th>std_episode_velocity</th>\n",
       "    </tr>\n",
       "  </thead>\n",
       "  <tbody>\n",
       "    <tr>\n",
       "      <th>0</th>\n",
       "      <td>highway</td>\n",
       "      <td>a2c</td>\n",
       "      <td>36.08</td>\n",
       "      <td>25.259113</td>\n",
       "      <td>20.138283</td>\n",
       "      <td>0.24</td>\n",
       "      <td>9.299118</td>\n",
       "      <td>6.761590</td>\n",
       "      <td>0.321905</td>\n",
       "    </tr>\n",
       "    <tr>\n",
       "      <th>1</th>\n",
       "      <td>roundabout</td>\n",
       "      <td>a2c</td>\n",
       "      <td>11.00</td>\n",
       "      <td>9.299200</td>\n",
       "      <td>0.629898</td>\n",
       "      <td>0.00</td>\n",
       "      <td>0.000000</td>\n",
       "      <td>0.035991</td>\n",
       "      <td>0.294882</td>\n",
       "    </tr>\n",
       "    <tr>\n",
       "      <th>2</th>\n",
       "      <td>crossmerge</td>\n",
       "      <td>a2c</td>\n",
       "      <td>14.44</td>\n",
       "      <td>0.360000</td>\n",
       "      <td>18.270236</td>\n",
       "      <td>0.16</td>\n",
       "      <td>5.865697</td>\n",
       "      <td>1.466424</td>\n",
       "      <td>3.744135</td>\n",
       "    </tr>\n",
       "    <tr>\n",
       "      <th>3</th>\n",
       "      <td>crossmerge</td>\n",
       "      <td>ppo</td>\n",
       "      <td>14.22</td>\n",
       "      <td>1.520000</td>\n",
       "      <td>20.863105</td>\n",
       "      <td>0.10</td>\n",
       "      <td>4.090428</td>\n",
       "      <td>1.445545</td>\n",
       "      <td>3.930895</td>\n",
       "    </tr>\n",
       "    <tr>\n",
       "      <th>4</th>\n",
       "      <td>highway</td>\n",
       "      <td>ppo</td>\n",
       "      <td>32.38</td>\n",
       "      <td>23.903214</td>\n",
       "      <td>21.267977</td>\n",
       "      <td>0.42</td>\n",
       "      <td>12.446510</td>\n",
       "      <td>9.505046</td>\n",
       "      <td>1.006174</td>\n",
       "    </tr>\n",
       "    <tr>\n",
       "      <th>5</th>\n",
       "      <td>roundabout</td>\n",
       "      <td>ppo</td>\n",
       "      <td>10.66</td>\n",
       "      <td>9.020800</td>\n",
       "      <td>1.147126</td>\n",
       "      <td>0.04</td>\n",
       "      <td>1.668652</td>\n",
       "      <td>1.524818</td>\n",
       "      <td>1.596170</td>\n",
       "    </tr>\n",
       "    <tr>\n",
       "      <th>6</th>\n",
       "      <td>crossmerge</td>\n",
       "      <td>random</td>\n",
       "      <td>10.88</td>\n",
       "      <td>-0.600000</td>\n",
       "      <td>20.782885</td>\n",
       "      <td>0.40</td>\n",
       "      <td>5.612985</td>\n",
       "      <td>1.918333</td>\n",
       "      <td>5.678112</td>\n",
       "    </tr>\n",
       "  </tbody>\n",
       "</table>\n",
       "</div>"
      ],
      "text/plain": [
       "          env   model  mean_episode_length  mean_episode_reward  \\\n",
       "0     highway     a2c                36.08            25.259113   \n",
       "1  roundabout     a2c                11.00             9.299200   \n",
       "2  crossmerge     a2c                14.44             0.360000   \n",
       "3  crossmerge     ppo                14.22             1.520000   \n",
       "4     highway     ppo                32.38            23.903214   \n",
       "5  roundabout     ppo                10.66             9.020800   \n",
       "6  crossmerge  random                10.88            -0.600000   \n",
       "\n",
       "   mean_episode_velocity  mean_episode_crashed  std_episode_length  \\\n",
       "0              20.138283                  0.24            9.299118   \n",
       "1               0.629898                  0.00            0.000000   \n",
       "2              18.270236                  0.16            5.865697   \n",
       "3              20.863105                  0.10            4.090428   \n",
       "4              21.267977                  0.42           12.446510   \n",
       "5               1.147126                  0.04            1.668652   \n",
       "6              20.782885                  0.40            5.612985   \n",
       "\n",
       "   std_episode_reward  std_episode_velocity  \n",
       "0            6.761590              0.321905  \n",
       "1            0.035991              0.294882  \n",
       "2            1.466424              3.744135  \n",
       "3            1.445545              3.930895  \n",
       "4            9.505046              1.006174  \n",
       "5            1.524818              1.596170  \n",
       "6            1.918333              5.678112  "
      ]
     },
     "execution_count": 10,
     "metadata": {},
     "output_type": "execute_result"
    }
   ],
   "source": [
    "evaluations_df[[\"env\", \"model\", \"mean_episode_length\", \"mean_episode_reward\", \"mean_episode_velocity\", \"mean_episode_crashed\", \"std_episode_length\", \"std_episode_reward\", \"std_episode_velocity\"]]"
   ]
  },
  {
   "cell_type": "code",
   "execution_count": 16,
   "metadata": {},
   "outputs": [
    {
     "data": {
      "text/plain": [
       "1.82"
      ]
     },
     "execution_count": 16,
     "metadata": {},
     "output_type": "execute_result"
    }
   ],
   "source": [
    "np.mean(list(map(np.max, evaluations_df[evaluations_df[\"env\"] == \"crossmerge\"]['stats_dict'][3][\"episode_num_goals_reached\"])))"
   ]
  },
  {
   "cell_type": "code",
   "execution_count": 14,
   "metadata": {},
   "outputs": [
    {
     "data": {
      "text/plain": [
       "[1,\n",
       " 1,\n",
       " 1,\n",
       " 1,\n",
       " 0,\n",
       " 1,\n",
       " 1,\n",
       " 1,\n",
       " 1,\n",
       " 1,\n",
       " 1,\n",
       " 1,\n",
       " 1,\n",
       " 1,\n",
       " 1,\n",
       " 1,\n",
       " 1,\n",
       " 1,\n",
       " 1,\n",
       " 0,\n",
       " 1,\n",
       " 1,\n",
       " 1,\n",
       " 1,\n",
       " 1,\n",
       " 1,\n",
       " 1,\n",
       " 1,\n",
       " 1,\n",
       " 1,\n",
       " 1,\n",
       " 1,\n",
       " 1,\n",
       " 1,\n",
       " 1,\n",
       " 0,\n",
       " 1,\n",
       " 1,\n",
       " 1,\n",
       " 0,\n",
       " 1,\n",
       " 0,\n",
       " 0,\n",
       " 1,\n",
       " 1,\n",
       " 1,\n",
       " 0,\n",
       " 1,\n",
       " 0,\n",
       " 1]"
      ]
     },
     "execution_count": 14,
     "metadata": {},
     "output_type": "execute_result"
    }
   ],
   "source": [
    "list(map(np.max, evaluations_df[evaluations_df[\"env\"] == \"crossmerge\"]['stats_dict'][2][\"episode_num_goals_reached\"]))"
   ]
  },
  {
   "cell_type": "code",
   "execution_count": null,
   "metadata": {},
   "outputs": [],
   "source": []
  }
 ],
 "metadata": {
  "kernelspec": {
   "display_name": "Python 3",
   "language": "python",
   "name": "python3"
  },
  "language_info": {
   "codemirror_mode": {
    "name": "ipython",
    "version": 3
   },
   "file_extension": ".py",
   "mimetype": "text/x-python",
   "name": "python",
   "nbconvert_exporter": "python",
   "pygments_lexer": "ipython3",
   "version": "3.8.5"
  }
 },
 "nbformat": 4,
 "nbformat_minor": 5
}
