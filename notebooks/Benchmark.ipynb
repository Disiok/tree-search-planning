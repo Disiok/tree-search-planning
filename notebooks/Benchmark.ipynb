{
 "cells": [
  {
   "cell_type": "code",
   "execution_count": 80,
   "id": "5a0bdeec",
   "metadata": {},
   "outputs": [],
   "source": [
    "import os\n",
    "import json\n",
    "import pandas as pd\n",
    "from pathlib import Path\n",
    "import numpy as np"
   ]
  },
  {
   "cell_type": "code",
   "execution_count": 49,
   "id": "7b365337",
   "metadata": {},
   "outputs": [],
   "source": [
    "root_dir = Path('/h/suo/dev/tree-search-planning/muzero-general/out')"
   ]
  },
  {
   "cell_type": "code",
   "execution_count": 59,
   "id": "12c04397",
   "metadata": {},
   "outputs": [],
   "source": [
    "evaluations = []\n",
    "for env in os.listdir(root_dir):\n",
    "    for model in os.listdir(root_dir / env):\n",
    "        for run in os.listdir(root_dir / env / model):\n",
    "            try:\n",
    "                stats_json = next((root_dir / env / model / run).glob('*.stats.json'))\n",
    "                evaluations.append([env, model, run, stats_json])\n",
    "            except:\n",
    "                pass"
   ]
  },
  {
   "cell_type": "code",
   "execution_count": 67,
   "id": "ad4840de",
   "metadata": {},
   "outputs": [
    {
     "data": {
      "text/html": [
       "<div>\n",
       "<style scoped>\n",
       "    .dataframe tbody tr th:only-of-type {\n",
       "        vertical-align: middle;\n",
       "    }\n",
       "\n",
       "    .dataframe tbody tr th {\n",
       "        vertical-align: top;\n",
       "    }\n",
       "\n",
       "    .dataframe thead th {\n",
       "        text-align: right;\n",
       "    }\n",
       "</style>\n",
       "<table border=\"1\" class=\"dataframe\">\n",
       "  <thead>\n",
       "    <tr style=\"text-align: right;\">\n",
       "      <th></th>\n",
       "      <th>env</th>\n",
       "      <th>model</th>\n",
       "      <th>run</th>\n",
       "      <th>stats_json</th>\n",
       "    </tr>\n",
       "  </thead>\n",
       "  <tbody>\n",
       "    <tr>\n",
       "      <th>0</th>\n",
       "      <td>HighwayEnv</td>\n",
       "      <td>MCTSAgent</td>\n",
       "      <td>run_20210316-153909_25172</td>\n",
       "      <td>/h/suo/dev/tree-search-planning/muzero-general...</td>\n",
       "    </tr>\n",
       "    <tr>\n",
       "      <th>1</th>\n",
       "      <td>HighwayEnv</td>\n",
       "      <td>MCTSAgent</td>\n",
       "      <td>run_20210316-152933_22463</td>\n",
       "      <td>/h/suo/dev/tree-search-planning/muzero-general...</td>\n",
       "    </tr>\n",
       "    <tr>\n",
       "      <th>2</th>\n",
       "      <td>HighwayEnv</td>\n",
       "      <td>DQNAgent</td>\n",
       "      <td>run_20210316-145415_10891</td>\n",
       "      <td>/h/suo/dev/tree-search-planning/muzero-general...</td>\n",
       "    </tr>\n",
       "    <tr>\n",
       "      <th>3</th>\n",
       "      <td>HighwayEnv</td>\n",
       "      <td>DQNAgent</td>\n",
       "      <td>run_20210316-145336_10605</td>\n",
       "      <td>/h/suo/dev/tree-search-planning/muzero-general...</td>\n",
       "    </tr>\n",
       "    <tr>\n",
       "      <th>4</th>\n",
       "      <td>HighwayEnv</td>\n",
       "      <td>DQNAgent</td>\n",
       "      <td>run_20210316-181851_10244</td>\n",
       "      <td>/h/suo/dev/tree-search-planning/muzero-general...</td>\n",
       "    </tr>\n",
       "  </tbody>\n",
       "</table>\n",
       "</div>"
      ],
      "text/plain": [
       "          env      model                        run  \\\n",
       "0  HighwayEnv  MCTSAgent  run_20210316-153909_25172   \n",
       "1  HighwayEnv  MCTSAgent  run_20210316-152933_22463   \n",
       "2  HighwayEnv   DQNAgent  run_20210316-145415_10891   \n",
       "3  HighwayEnv   DQNAgent  run_20210316-145336_10605   \n",
       "4  HighwayEnv   DQNAgent  run_20210316-181851_10244   \n",
       "\n",
       "                                          stats_json  \n",
       "0  /h/suo/dev/tree-search-planning/muzero-general...  \n",
       "1  /h/suo/dev/tree-search-planning/muzero-general...  \n",
       "2  /h/suo/dev/tree-search-planning/muzero-general...  \n",
       "3  /h/suo/dev/tree-search-planning/muzero-general...  \n",
       "4  /h/suo/dev/tree-search-planning/muzero-general...  "
      ]
     },
     "execution_count": 67,
     "metadata": {},
     "output_type": "execute_result"
    }
   ],
   "source": [
    "evaluations_df = pd.DataFrame(evaluations, columns=['env', 'model', 'run', 'stats_json'])\n",
    "evaluations_df.head()"
   ]
  },
  {
   "cell_type": "code",
   "execution_count": 105,
   "id": "03c5674c",
   "metadata": {},
   "outputs": [],
   "source": [
    "def get_stats(stats_json):\n",
    "    with open(stats_json) as f:\n",
    "        stats = json.load(f)\n",
    "    return stats"
   ]
  },
  {
   "cell_type": "code",
   "execution_count": 108,
   "id": "48253c06",
   "metadata": {},
   "outputs": [
    {
     "data": {
      "text/html": [
       "<div>\n",
       "<style scoped>\n",
       "    .dataframe tbody tr th:only-of-type {\n",
       "        vertical-align: middle;\n",
       "    }\n",
       "\n",
       "    .dataframe tbody tr th {\n",
       "        vertical-align: top;\n",
       "    }\n",
       "\n",
       "    .dataframe thead th {\n",
       "        text-align: right;\n",
       "    }\n",
       "</style>\n",
       "<table border=\"1\" class=\"dataframe\">\n",
       "  <thead>\n",
       "    <tr style=\"text-align: right;\">\n",
       "      <th></th>\n",
       "      <th>env</th>\n",
       "      <th>model</th>\n",
       "      <th>run</th>\n",
       "      <th>stats_json</th>\n",
       "      <th>stats</th>\n",
       "      <th>mean_episode_length</th>\n",
       "      <th>mean_episode_reward</th>\n",
       "      <th>stats_dict</th>\n",
       "    </tr>\n",
       "  </thead>\n",
       "  <tbody>\n",
       "    <tr>\n",
       "      <th>0</th>\n",
       "      <td>HighwayEnv</td>\n",
       "      <td>MCTSAgent</td>\n",
       "      <td>run_20210316-153909_25172</td>\n",
       "      <td>/h/suo/dev/tree-search-planning/muzero-general...</td>\n",
       "      <td>{'initial_reset_timestamp': 1615923549.457805,...</td>\n",
       "      <td>9.2</td>\n",
       "      <td>6.944165</td>\n",
       "      <td>{'initial_reset_timestamp': 1615923549.457805,...</td>\n",
       "    </tr>\n",
       "    <tr>\n",
       "      <th>1</th>\n",
       "      <td>HighwayEnv</td>\n",
       "      <td>MCTSAgent</td>\n",
       "      <td>run_20210316-152933_22463</td>\n",
       "      <td>/h/suo/dev/tree-search-planning/muzero-general...</td>\n",
       "      <td>{'initial_reset_timestamp': 1615922973.937414,...</td>\n",
       "      <td>9.2</td>\n",
       "      <td>6.944165</td>\n",
       "      <td>{'initial_reset_timestamp': 1615922973.937414,...</td>\n",
       "    </tr>\n",
       "    <tr>\n",
       "      <th>2</th>\n",
       "      <td>HighwayEnv</td>\n",
       "      <td>DQNAgent</td>\n",
       "      <td>run_20210316-145415_10891</td>\n",
       "      <td>/h/suo/dev/tree-search-planning/muzero-general...</td>\n",
       "      <td>{'initial_reset_timestamp': 1615920855.878575,...</td>\n",
       "      <td>9.2</td>\n",
       "      <td>6.944165</td>\n",
       "      <td>{'initial_reset_timestamp': 1615920855.878575,...</td>\n",
       "    </tr>\n",
       "    <tr>\n",
       "      <th>3</th>\n",
       "      <td>HighwayEnv</td>\n",
       "      <td>DQNAgent</td>\n",
       "      <td>run_20210316-145336_10605</td>\n",
       "      <td>/h/suo/dev/tree-search-planning/muzero-general...</td>\n",
       "      <td>{'initial_reset_timestamp': None, 'timestamps'...</td>\n",
       "      <td>9.2</td>\n",
       "      <td>6.944165</td>\n",
       "      <td>{'initial_reset_timestamp': None, 'timestamps'...</td>\n",
       "    </tr>\n",
       "    <tr>\n",
       "      <th>4</th>\n",
       "      <td>HighwayEnv</td>\n",
       "      <td>DQNAgent</td>\n",
       "      <td>run_20210316-181851_10244</td>\n",
       "      <td>/h/suo/dev/tree-search-planning/muzero-general...</td>\n",
       "      <td>{'initial_reset_timestamp': 1615933131.5385494...</td>\n",
       "      <td>9.2</td>\n",
       "      <td>6.944165</td>\n",
       "      <td>{'initial_reset_timestamp': 1615933131.5385494...</td>\n",
       "    </tr>\n",
       "  </tbody>\n",
       "</table>\n",
       "</div>"
      ],
      "text/plain": [
       "          env      model                        run  \\\n",
       "0  HighwayEnv  MCTSAgent  run_20210316-153909_25172   \n",
       "1  HighwayEnv  MCTSAgent  run_20210316-152933_22463   \n",
       "2  HighwayEnv   DQNAgent  run_20210316-145415_10891   \n",
       "3  HighwayEnv   DQNAgent  run_20210316-145336_10605   \n",
       "4  HighwayEnv   DQNAgent  run_20210316-181851_10244   \n",
       "\n",
       "                                          stats_json  \\\n",
       "0  /h/suo/dev/tree-search-planning/muzero-general...   \n",
       "1  /h/suo/dev/tree-search-planning/muzero-general...   \n",
       "2  /h/suo/dev/tree-search-planning/muzero-general...   \n",
       "3  /h/suo/dev/tree-search-planning/muzero-general...   \n",
       "4  /h/suo/dev/tree-search-planning/muzero-general...   \n",
       "\n",
       "                                               stats  mean_episode_length  \\\n",
       "0  {'initial_reset_timestamp': 1615923549.457805,...                  9.2   \n",
       "1  {'initial_reset_timestamp': 1615922973.937414,...                  9.2   \n",
       "2  {'initial_reset_timestamp': 1615920855.878575,...                  9.2   \n",
       "3  {'initial_reset_timestamp': None, 'timestamps'...                  9.2   \n",
       "4  {'initial_reset_timestamp': 1615933131.5385494...                  9.2   \n",
       "\n",
       "   mean_episode_reward                                         stats_dict  \n",
       "0             6.944165  {'initial_reset_timestamp': 1615923549.457805,...  \n",
       "1             6.944165  {'initial_reset_timestamp': 1615922973.937414,...  \n",
       "2             6.944165  {'initial_reset_timestamp': 1615920855.878575,...  \n",
       "3             6.944165  {'initial_reset_timestamp': None, 'timestamps'...  \n",
       "4             6.944165  {'initial_reset_timestamp': 1615933131.5385494...  "
      ]
     },
     "execution_count": 108,
     "metadata": {},
     "output_type": "execute_result"
    }
   ],
   "source": [
    "evaluations_df['stats_dict'] = evaluations_df['stats_json'].apply(get_stats)\n",
    "evaluations_df.head()"
   ]
  },
  {
   "cell_type": "code",
   "execution_count": 111,
   "id": "98d83d5c",
   "metadata": {},
   "outputs": [],
   "source": [
    "def mean_episode_length(stat_dict):\n",
    "    return np.mean(stat_dict['episode_lengths'])\n",
    "def mean_total_reward(stat_dict):\n",
    "    return np.mean(stat_dict['episode_rewards'])"
   ]
  },
  {
   "cell_type": "code",
   "execution_count": 112,
   "id": "68a891af",
   "metadata": {},
   "outputs": [],
   "source": [
    "evaluations_df['mean_episode_length'] = evaluations_df['stats_dict'].apply(mean_episode_length)\n",
    "evaluations_df['mean_episode_reward'] = evaluations_df['stats_dict'].apply(mean_total_reward)"
   ]
  },
  {
   "cell_type": "code",
   "execution_count": 126,
   "id": "1f75d4fd",
   "metadata": {},
   "outputs": [
    {
     "data": {
      "text/plain": [
       "<AxesSubplot:xlabel='model'>"
      ]
     },
     "execution_count": 126,
     "metadata": {},
     "output_type": "execute_result"
    },
    {
     "data": {
      "image/png": "[encoded data removed]",
      "text/plain": [
       "<Figure size 432x288 with 1 Axes>"
      ]
     },
     "metadata": {
      "needs_background": "light"
     },
     "output_type": "display_data"
    }
   ],
   "source": [
    "evaluations_df[evaluations_df['env'] == 'HighwayEnv'].groupby('model').mean().plot.bar()"
   ]
  }
 ],
 "metadata": {
  "kernelspec": {
   "display_name": "Python 3",
   "language": "python",
   "name": "python3"
  },
  "language_info": {
   "codemirror_mode": {
    "name": "ipython",
    "version": 3
   },
   "file_extension": ".py",
   "mimetype": "text/x-python",
   "name": "python",
   "nbconvert_exporter": "python",
   "pygments_lexer": "ipython3",
   "version": "3.7.10"
  }
 },
 "nbformat": 4,
 "nbformat_minor": 5
}
