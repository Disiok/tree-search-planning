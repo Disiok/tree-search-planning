{
 "cells": [
  {
   "cell_type": "code",
   "execution_count": 30,
   "id": "2d494095",
   "metadata": {},
   "outputs": [],
   "source": [
    "import os\n",
    "import json\n",
    "import pandas as pd\n",
    "from pathlib import Path\n",
    "import numpy as np"
   ]
  },
  {
   "cell_type": "code",
   "execution_count": 31,
   "id": "8cbd8caa",
   "metadata": {},
   "outputs": [],
   "source": [
    "root_dir = Path('/h/sergio/tree-search-planning/muzero-general/out')"
   ]
  },
  {
   "cell_type": "code",
   "execution_count": 32,
   "id": "9f6ddb95",
   "metadata": {},
   "outputs": [],
   "source": [
    "evaluations = []\n",
    "for env in os.listdir(root_dir):\n",
    "    for run in os.listdir(root_dir / env):\n",
    "        try:\n",
    "            stats_json = next((root_dir / env / run).glob('*.stats.json'))\n",
    "            evaluations.append([env, run, stats_json])\n",
    "        except:\n",
    "            pass"
   ]
  },
  {
   "cell_type": "code",
   "execution_count": 33,
   "id": "8d51e052",
   "metadata": {},
   "outputs": [
    {
     "data": {
      "text/html": [
       "<div>\n",
       "<style scoped>\n",
       "    .dataframe tbody tr th:only-of-type {\n",
       "        vertical-align: middle;\n",
       "    }\n",
       "\n",
       "    .dataframe tbody tr th {\n",
       "        vertical-align: top;\n",
       "    }\n",
       "\n",
       "    .dataframe thead th {\n",
       "        text-align: right;\n",
       "    }\n",
       "</style>\n",
       "<table border=\"1\" class=\"dataframe\">\n",
       "  <thead>\n",
       "    <tr style=\"text-align: right;\">\n",
       "      <th></th>\n",
       "      <th>env</th>\n",
       "      <th>run</th>\n",
       "      <th>stats_json</th>\n",
       "    </tr>\n",
       "  </thead>\n",
       "  <tbody>\n",
       "    <tr>\n",
       "      <th>0</th>\n",
       "      <td>roundabout-v0</td>\n",
       "      <td>MuZero</td>\n",
       "      <td>run_20210414-203008_9350</td>\n",
       "      <td>/h/sergio/tree-search-planning/muzero-general/...</td>\n",
       "    </tr>\n",
       "    <tr>\n",
       "      <th>1</th>\n",
       "      <td>highway-v0</td>\n",
       "      <td>MuZero</td>\n",
       "      <td>run_20210414-205342_16381</td>\n",
       "      <td>/h/sergio/tree-search-planning/muzero-general/...</td>\n",
       "    </tr>\n",
       "  </tbody>\n",
       "</table>\n",
       "</div>"
      ],
      "text/plain": [
       "             env   model                        run  \\\n",
       "0  roundabout-v0  MuZero   run_20210414-203008_9350   \n",
       "1     highway-v0  MuZero  run_20210414-205342_16381   \n",
       "\n",
       "                                          stats_json  \n",
       "0  /h/sergio/tree-search-planning/muzero-general/...  \n",
       "1  /h/sergio/tree-search-planning/muzero-general/...  "
      ]
     },
     "execution_count": 33,
     "metadata": {},
     "output_type": "execute_result"
    }
   ],
   "source": [
    "evaluations_df = pd.DataFrame(evaluations, columns=['env', 'run', 'stats_json'])\n",
    "evaluations_df.head()"
   ]
  },
  {
   "cell_type": "code",
   "execution_count": 34,
   "id": "61f76246",
   "metadata": {},
   "outputs": [],
   "source": [
    "def get_stats(stats_json):\n",
    "    with open(stats_json) as f:\n",
    "        stats = json.load(f)\n",
    "    return stats"
   ]
  },
  {
   "cell_type": "code",
   "execution_count": 35,
   "id": "4d76538a",
   "metadata": {},
   "outputs": [
    {
     "data": {
      "text/html": [
       "<div>\n",
       "<style scoped>\n",
       "    .dataframe tbody tr th:only-of-type {\n",
       "        vertical-align: middle;\n",
       "    }\n",
       "\n",
       "    .dataframe tbody tr th {\n",
       "        vertical-align: top;\n",
       "    }\n",
       "\n",
       "    .dataframe thead th {\n",
       "        text-align: right;\n",
       "    }\n",
       "</style>\n",
       "<table border=\"1\" class=\"dataframe\">\n",
       "  <thead>\n",
       "    <tr style=\"text-align: right;\">\n",
       "      <th></th>\n",
       "      <th>env</th>\n",
       "      <th>run</th>\n",
       "      <th>stats_json</th>\n",
       "      <th>stats_dict</th>\n",
       "    </tr>\n",
       "  </thead>\n",
       "  <tbody>\n",
       "    <tr>\n",
       "      <th>0</th>\n",
       "      <td>roundabout-v0</td>\n",
       "      <td>MuZero</td>\n",
       "      <td>run_20210414-203008_9350</td>\n",
       "      <td>/h/sergio/tree-search-planning/muzero-general/...</td>\n",
       "      <td>{'initial_reset_timestamp': 1618446608.8101778...</td>\n",
       "    </tr>\n",
       "    <tr>\n",
       "      <th>1</th>\n",
       "      <td>highway-v0</td>\n",
       "      <td>MuZero</td>\n",
       "      <td>run_20210414-205342_16381</td>\n",
       "      <td>/h/sergio/tree-search-planning/muzero-general/...</td>\n",
       "      <td>{'initial_reset_timestamp': 1618448022.171705,...</td>\n",
       "    </tr>\n",
       "  </tbody>\n",
       "</table>\n",
       "</div>"
      ],
      "text/plain": [
       "             env   model                        run  \\\n",
       "0  roundabout-v0  MuZero   run_20210414-203008_9350   \n",
       "1     highway-v0  MuZero  run_20210414-205342_16381   \n",
       "\n",
       "                                          stats_json  \\\n",
       "0  /h/sergio/tree-search-planning/muzero-general/...   \n",
       "1  /h/sergio/tree-search-planning/muzero-general/...   \n",
       "\n",
       "                                          stats_dict  \n",
       "0  {'initial_reset_timestamp': 1618446608.8101778...  \n",
       "1  {'initial_reset_timestamp': 1618448022.171705,...  "
      ]
     },
     "execution_count": 35,
     "metadata": {},
     "output_type": "execute_result"
    }
   ],
   "source": [
    "evaluations_df['stats_dict'] = evaluations_df['stats_json'].apply(get_stats)\n",
    "evaluations_df.head()"
   ]
  },
  {
   "cell_type": "code",
   "execution_count": 36,
   "id": "5a6d33df",
   "metadata": {},
   "outputs": [],
   "source": [
    "def mean_total_reward(stat_dict):\n",
    "    return np.mean(stat_dict['episode_rewards'])\n",
    "def std_total_reward(stat_dict):\n",
    "    return np.std(stat_dict['episode_rewards'])\n",
    "def p_crashed(stat_dict):\n",
    "    ep_crashed = [int(any(ep)) for ep in stat_dict['episode_crashed']]\n",
    "    return np.mean(ep_crashed)\n",
    "def mean_speed(stat_dict):\n",
    "    ep_speed = [np.mean(ep) for ep in stat_dict['episode_speed']]\n",
    "    return np.mean(ep_speed)\n",
    "def std_speed(stat_dict):\n",
    "    ep_speed = [np.mean(ep) for ep in stat_dict['episode_speed']]\n",
    "    return np.std(ep_speed)"
   ]
  },
  {
   "cell_type": "code",
   "execution_count": 37,
   "id": "496942f4",
   "metadata": {},
   "outputs": [],
   "source": [
    "evaluations_df['mean_episode_length'] = evaluations_df['stats_dict'].apply(mean_episode_length)\n",
    "evaluations_df['mean_episode_reward'] = evaluations_df['stats_dict'].apply(mean_total_reward)\n",
    "evaluations_df['std_episode_reward'] = evaluations_df['stats_dict'].apply(std_total_reward)\n",
    "evaluations_df['p_crashed'] = evaluations_df['stats_dict'].apply(p_crashed)\n",
    "evaluations_df['mean_speed'] = evaluations_df['stats_dict'].apply(mean_speed)\n",
    "evaluations_df['std_speed'] = evaluations_df['stats_dict'].apply(std_speed)"
   ]
  },
  {
   "cell_type": "code",
   "execution_count": 38,
   "id": "0ca72d8c",
   "metadata": {},
   "outputs": [
    {
     "data": {
      "text/html": [
       "<div>\n",
       "<style scoped>\n",
       "    .dataframe tbody tr th:only-of-type {\n",
       "        vertical-align: middle;\n",
       "    }\n",
       "\n",
       "    .dataframe tbody tr th {\n",
       "        vertical-align: top;\n",
       "    }\n",
       "\n",
       "    .dataframe thead th {\n",
       "        text-align: right;\n",
       "    }\n",
       "</style>\n",
       "<table border=\"1\" class=\"dataframe\">\n",
       "  <thead>\n",
       "    <tr style=\"text-align: right;\">\n",
       "      <th></th>\n",
       "      <th></th>\n",
       "      <th>mean_episode_reward</th>\n",
       "      <th>std_episode_reward</th>\n",
       "      <th>p_crashed</th>\n",
       "      <th>mean_speed</th>\n",
       "      <th>std_speed</th>\n",
       "    </tr>\n",
       "    <tr>\n",
       "      <th>env</th>\n",
       "      <th>model</th>\n",
       "      <th></th>\n",
       "      <th></th>\n",
       "      <th></th>\n",
       "      <th></th>\n",
       "      <th></th>\n",
       "    </tr>\n",
       "  </thead>\n",
       "  <tbody>\n",
       "    <tr>\n",
       "      <th>roundabout-v0</th>\n",
       "      <th>MuZero</th>\n",
       "      <td>10.975200</td>\n",
       "      <td>0.903182</td>\n",
       "      <td>0.14</td>\n",
       "      <td>9.119461</td>\n",
       "      <td>0.835300</td>\n",
       "    </tr>\n",
       "    <tr>\n",
       "      <th>highway-v0</th>\n",
       "      <th>MuZero</th>\n",
       "      <td>22.980087</td>\n",
       "      <td>9.104898</td>\n",
       "      <td>0.52</td>\n",
       "      <td>21.337703</td>\n",
       "      <td>1.396431</td>\n",
       "    </tr>\n",
       "  </tbody>\n",
       "</table>\n",
       "</div>"
      ],
      "text/plain": [
       "                      mean_episode_reward  std_episode_reward  p_crashed  \\\n",
       "env           model                                                        \n",
       "roundabout-v0 MuZero            10.975200            0.903182       0.14   \n",
       "highway-v0    MuZero            22.980087            9.104898       0.52   \n",
       "\n",
       "                      mean_speed  std_speed  \n",
       "env           model                          \n",
       "roundabout-v0 MuZero    9.119461   0.835300  \n",
       "highway-v0    MuZero   21.337703   1.396431  "
      ]
     },
     "execution_count": 38,
     "metadata": {},
     "output_type": "execute_result"
    }
   ],
   "source": [
    "evaluations_df.set_index(['env', 'model'])[['mean_episode_reward', 'std_episode_reward', 'p_crashed', 'mean_speed', 'std_speed']]"
   ]
  },
  {
   "cell_type": "code",
   "execution_count": 11,
   "id": "72372a4e",
   "metadata": {},
   "outputs": [
    {
     "data": {
      "text/plain": [
       "0    10.82\n",
       "Name: mean_episode_length, dtype: float64"
      ]
     },
     "execution_count": 11,
     "metadata": {},
     "output_type": "execute_result"
    }
   ],
   "source": [
    "evaluations_df['mean_episode_length']"
   ]
  },
  {
   "cell_type": "code",
   "execution_count": 12,
   "id": "23457dcb",
   "metadata": {},
   "outputs": [
    {
     "data": {
      "text/plain": [
       "0    10.9752\n",
       "Name: mean_episode_reward, dtype: float64"
      ]
     },
     "execution_count": 12,
     "metadata": {},
     "output_type": "execute_result"
    }
   ],
   "source": [
    "evaluations_df['mean_episode_reward']"
   ]
  },
  {
   "cell_type": "code",
   "execution_count": 22,
   "id": "3a03eb5e",
   "metadata": {},
   "outputs": [
    {
     "data": {
      "text/plain": [
       "0    0.14\n",
       "Name: p_crashed, dtype: float64"
      ]
     },
     "execution_count": 22,
     "metadata": {},
     "output_type": "execute_result"
    }
   ],
   "source": [
    "evaluations_df['p_crashed']"
   ]
  },
  {
   "cell_type": "code",
   "execution_count": 24,
   "id": "a1f61d9d",
   "metadata": {},
   "outputs": [
    {
     "data": {
      "text/plain": [
       "0    9.119461\n",
       "Name: mean_speed, dtype: float64"
      ]
     },
     "execution_count": 24,
     "metadata": {},
     "output_type": "execute_result"
    }
   ],
   "source": [
    "evaluations_df['mean_speed']"
   ]
  },
  {
   "cell_type": "code",
   "execution_count": null,
   "id": "4cd0844a",
   "metadata": {},
   "outputs": [],
   "source": []
  }
 ],
 "metadata": {
  "kernelspec": {
   "display_name": "Python 3",
   "language": "python",
   "name": "python3"
  },
  "language_info": {
   "codemirror_mode": {
    "name": "ipython",
    "version": 3
   },
   "file_extension": ".py",
   "mimetype": "text/x-python",
   "name": "python",
   "nbconvert_exporter": "python",
   "pygments_lexer": "ipython3",
   "version": "3.8.5"
  }
 },
 "nbformat": 4,
 "nbformat_minor": 5
}
