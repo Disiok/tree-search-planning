{
 "cells": [
  {
   "cell_type": "code",
   "execution_count": 3,
   "metadata": {},
   "outputs": [],
   "source": [
    "import os\n",
    "import json\n",
    "import pandas as pd\n",
    "from pathlib import Path\n",
    "import numpy as np"
   ]
  },
  {
   "cell_type": "code",
   "execution_count": 4,
   "metadata": {},
   "outputs": [],
   "source": [
    "root_dir = Path('/h/kelvin/projects/mcts_planner/tsp/evaluations')"
   ]
  },
  {
   "cell_type": "code",
   "execution_count": 15,
   "metadata": {},
   "outputs": [],
   "source": [
    "evaluations = []\n",
    "for env in os.listdir(root_dir):\n",
    "    for run in os.listdir(root_dir / env):\n",
    "        try:\n",
    "            stats_json = next((root_dir / env / run).glob('*.stats.json'))\n",
    "            evaluations.append([env, run, stats_json])\n",
    "        except:\n",
    "            pass"
   ]
  },
  {
   "cell_type": "code",
   "execution_count": 18,
   "metadata": {},
   "outputs": [
    {
     "data": {
      "text/html": [
       "<div>\n",
       "<style scoped>\n",
       "    .dataframe tbody tr th:only-of-type {\n",
       "        vertical-align: middle;\n",
       "    }\n",
       "\n",
       "    .dataframe tbody tr th {\n",
       "        vertical-align: top;\n",
       "    }\n",
       "\n",
       "    .dataframe thead th {\n",
       "        text-align: right;\n",
       "    }\n",
       "</style>\n",
       "<table border=\"1\" class=\"dataframe\">\n",
       "  <thead>\n",
       "    <tr style=\"text-align: right;\">\n",
       "      <th></th>\n",
       "      <th>env</th>\n",
       "      <th>run</th>\n",
       "      <th>stats_json</th>\n",
       "    </tr>\n",
       "  </thead>\n",
       "  <tbody>\n",
       "    <tr>\n",
       "      <th>0</th>\n",
       "      <td>roundabout_env_ttc_flat_recon_mask_no_policy</td>\n",
       "      <td>run_20210413-060059_29250</td>\n",
       "      <td>/h/kelvin/projects/mcts_planner/tsp/evaluation...</td>\n",
       "    </tr>\n",
       "    <tr>\n",
       "      <th>1</th>\n",
       "      <td>roundabout_env_ttc_flat_recon_mask_no_policy</td>\n",
       "      <td>run_20210413-060211_29250</td>\n",
       "      <td>/h/kelvin/projects/mcts_planner/tsp/evaluation...</td>\n",
       "    </tr>\n",
       "    <tr>\n",
       "      <th>2</th>\n",
       "      <td>roundabout_env_ttc_flat_recon_mask_no_policy</td>\n",
       "      <td>run_20210413-060135_29250</td>\n",
       "      <td>/h/kelvin/projects/mcts_planner/tsp/evaluation...</td>\n",
       "    </tr>\n",
       "    <tr>\n",
       "      <th>3</th>\n",
       "      <td>roundabout_env_ttc_flat_recon_mask_no_policy</td>\n",
       "      <td>run_20210413-060114_29250</td>\n",
       "      <td>/h/kelvin/projects/mcts_planner/tsp/evaluation...</td>\n",
       "    </tr>\n",
       "    <tr>\n",
       "      <th>4</th>\n",
       "      <td>roundabout_env_ttc_flat_recon_mask_no_policy</td>\n",
       "      <td>run_20210413-060140_29250</td>\n",
       "      <td>/h/kelvin/projects/mcts_planner/tsp/evaluation...</td>\n",
       "    </tr>\n",
       "  </tbody>\n",
       "</table>\n",
       "</div>"
      ],
      "text/plain": [
       "                                            env                        run  \\\n",
       "0  roundabout_env_ttc_flat_recon_mask_no_policy  run_20210413-060059_29250   \n",
       "1  roundabout_env_ttc_flat_recon_mask_no_policy  run_20210413-060211_29250   \n",
       "2  roundabout_env_ttc_flat_recon_mask_no_policy  run_20210413-060135_29250   \n",
       "3  roundabout_env_ttc_flat_recon_mask_no_policy  run_20210413-060114_29250   \n",
       "4  roundabout_env_ttc_flat_recon_mask_no_policy  run_20210413-060140_29250   \n",
       "\n",
       "                                          stats_json  \n",
       "0  /h/kelvin/projects/mcts_planner/tsp/evaluation...  \n",
       "1  /h/kelvin/projects/mcts_planner/tsp/evaluation...  \n",
       "2  /h/kelvin/projects/mcts_planner/tsp/evaluation...  \n",
       "3  /h/kelvin/projects/mcts_planner/tsp/evaluation...  \n",
       "4  /h/kelvin/projects/mcts_planner/tsp/evaluation...  "
      ]
     },
     "execution_count": 18,
     "metadata": {},
     "output_type": "execute_result"
    }
   ],
   "source": [
    "evaluations_df = pd.DataFrame(evaluations, columns=['env', 'run', 'stats_json'])\n",
    "evaluations_df.head()"
   ]
  },
  {
   "cell_type": "code",
   "execution_count": 19,
   "metadata": {},
   "outputs": [],
   "source": [
    "def get_stats(stats_json):\n",
    "    with open(stats_json) as f:\n",
    "        stats = json.load(f)\n",
    "    return stats"
   ]
  },
  {
   "cell_type": "code",
   "execution_count": 20,
   "metadata": {},
   "outputs": [
    {
     "data": {
      "text/html": [
       "<div>\n",
       "<style scoped>\n",
       "    .dataframe tbody tr th:only-of-type {\n",
       "        vertical-align: middle;\n",
       "    }\n",
       "\n",
       "    .dataframe tbody tr th {\n",
       "        vertical-align: top;\n",
       "    }\n",
       "\n",
       "    .dataframe thead th {\n",
       "        text-align: right;\n",
       "    }\n",
       "</style>\n",
       "<table border=\"1\" class=\"dataframe\">\n",
       "  <thead>\n",
       "    <tr style=\"text-align: right;\">\n",
       "      <th></th>\n",
       "      <th>env</th>\n",
       "      <th>run</th>\n",
       "      <th>stats_json</th>\n",
       "      <th>stats_dict</th>\n",
       "    </tr>\n",
       "  </thead>\n",
       "  <tbody>\n",
       "    <tr>\n",
       "      <th>0</th>\n",
       "      <td>roundabout_env_ttc_flat_recon_mask_no_policy</td>\n",
       "      <td>run_20210413-060059_29250</td>\n",
       "      <td>/h/kelvin/projects/mcts_planner/tsp/evaluation...</td>\n",
       "      <td>{'initial_reset_timestamp': 1618308059.8600795...</td>\n",
       "    </tr>\n",
       "    <tr>\n",
       "      <th>1</th>\n",
       "      <td>roundabout_env_ttc_flat_recon_mask_no_policy</td>\n",
       "      <td>run_20210413-060211_29250</td>\n",
       "      <td>/h/kelvin/projects/mcts_planner/tsp/evaluation...</td>\n",
       "      <td>{'initial_reset_timestamp': 1618308131.0966792...</td>\n",
       "    </tr>\n",
       "    <tr>\n",
       "      <th>2</th>\n",
       "      <td>roundabout_env_ttc_flat_recon_mask_no_policy</td>\n",
       "      <td>run_20210413-060135_29250</td>\n",
       "      <td>/h/kelvin/projects/mcts_planner/tsp/evaluation...</td>\n",
       "      <td>{'initial_reset_timestamp': 1618308095.142886,...</td>\n",
       "    </tr>\n",
       "    <tr>\n",
       "      <th>3</th>\n",
       "      <td>roundabout_env_ttc_flat_recon_mask_no_policy</td>\n",
       "      <td>run_20210413-060114_29250</td>\n",
       "      <td>/h/kelvin/projects/mcts_planner/tsp/evaluation...</td>\n",
       "      <td>{'initial_reset_timestamp': 1618308074.8152535...</td>\n",
       "    </tr>\n",
       "    <tr>\n",
       "      <th>4</th>\n",
       "      <td>roundabout_env_ttc_flat_recon_mask_no_policy</td>\n",
       "      <td>run_20210413-060140_29250</td>\n",
       "      <td>/h/kelvin/projects/mcts_planner/tsp/evaluation...</td>\n",
       "      <td>{'initial_reset_timestamp': 1618308100.2842348...</td>\n",
       "    </tr>\n",
       "  </tbody>\n",
       "</table>\n",
       "</div>"
      ],
      "text/plain": [
       "                                            env                        run  \\\n",
       "0  roundabout_env_ttc_flat_recon_mask_no_policy  run_20210413-060059_29250   \n",
       "1  roundabout_env_ttc_flat_recon_mask_no_policy  run_20210413-060211_29250   \n",
       "2  roundabout_env_ttc_flat_recon_mask_no_policy  run_20210413-060135_29250   \n",
       "3  roundabout_env_ttc_flat_recon_mask_no_policy  run_20210413-060114_29250   \n",
       "4  roundabout_env_ttc_flat_recon_mask_no_policy  run_20210413-060140_29250   \n",
       "\n",
       "                                          stats_json  \\\n",
       "0  /h/kelvin/projects/mcts_planner/tsp/evaluation...   \n",
       "1  /h/kelvin/projects/mcts_planner/tsp/evaluation...   \n",
       "2  /h/kelvin/projects/mcts_planner/tsp/evaluation...   \n",
       "3  /h/kelvin/projects/mcts_planner/tsp/evaluation...   \n",
       "4  /h/kelvin/projects/mcts_planner/tsp/evaluation...   \n",
       "\n",
       "                                          stats_dict  \n",
       "0  {'initial_reset_timestamp': 1618308059.8600795...  \n",
       "1  {'initial_reset_timestamp': 1618308131.0966792...  \n",
       "2  {'initial_reset_timestamp': 1618308095.142886,...  \n",
       "3  {'initial_reset_timestamp': 1618308074.8152535...  \n",
       "4  {'initial_reset_timestamp': 1618308100.2842348...  "
      ]
     },
     "execution_count": 20,
     "metadata": {},
     "output_type": "execute_result"
    }
   ],
   "source": [
    "evaluations_df['stats_dict'] = evaluations_df['stats_json'].apply(get_stats)\n",
    "evaluations_df.head()"
   ]
  },
  {
   "cell_type": "code",
   "execution_count": 35,
   "metadata": {},
   "outputs": [],
   "source": [
    "def mean_episode_length(stat_dict):\n",
    "    return np.mean(stat_dict['episode_lengths'])\n",
    "\n",
    "def mean_total_reward(stat_dict):\n",
    "    return np.mean(stat_dict['episode_rewards'])\n",
    "\n",
    "def mean_episode_velocity(stat_dict):\n",
    "    return np.mean(stat_dict['episode_speed'])\n",
    "\n",
    "def episode_crashed(stat_dict):\n",
    "    return np.any(stat_dict['episode_crashed'])"
   ]
  },
  {
   "cell_type": "code",
   "execution_count": 36,
   "metadata": {},
   "outputs": [],
   "source": [
    "evaluations_df['mean_episode_length'] = evaluations_df['stats_dict'].apply(mean_episode_length)\n",
    "evaluations_df['mean_episode_reward'] = evaluations_df['stats_dict'].apply(mean_total_reward)\n",
    "evaluations_df['mean_episode_velocity'] = evaluations_df['stats_dict'].apply(mean_episode_velocity)\n",
    "evaluations_df['mean_episode_crashed'] = evaluations_df['stats_dict'].apply(episode_crashed)"
   ]
  },
  {
   "cell_type": "code",
   "execution_count": 37,
   "metadata": {},
   "outputs": [
    {
     "data": {
      "text/plain": [
       "<AxesSubplot:xlabel='env'>"
      ]
     },
     "execution_count": 37,
     "metadata": {},
     "output_type": "execute_result"
    },
    {
     "data": {
      "image/png": "[encoded data removed]",
      "text/plain": [
       "<Figure size 432x288 with 1 Axes>"
      ]
     },
     "metadata": {
      "needs_background": "light"
     },
     "output_type": "display_data"
    }
   ],
   "source": [
    "evaluations_df.groupby('env').mean().plot.bar()"
   ]
  },
  {
   "cell_type": "code",
   "execution_count": 50,
   "metadata": {},
   "outputs": [],
   "source": [
    "csv = evaluations_df.groupby('env').mean().to_csv()\n",
    "with open(\"/h/kelvin/muzero_highway_env.csv\", \"w\") as f:\n",
    "    f.write(csv)"
   ]
  },
  {
   "cell_type": "code",
   "execution_count": 51,
   "metadata": {},
   "outputs": [],
   "source": [
    "csv = evaluations_df.groupby('env').std().to_csv()\n",
    "with open(\"/h/kelvin/muzero_highway_env_std.csv\", \"w\") as f:\n",
    "    f.write(csv)"
   ]
  },
  {
   "cell_type": "code",
   "execution_count": 46,
   "metadata": {},
   "outputs": [
    {
     "data": {
      "text/plain": [
       "env\n",
       "highway_env_ttc_flat                                       0.420000\n",
       "highway_env_ttc_flat_az                                    0.120000\n",
       "highway_env_ttc_flat_az_learned_dynamics                   0.540000\n",
       "highway_env_ttc_flat_az_learned_dynamics_no_policy         0.760000\n",
       "highway_env_ttc_flat_az_learned_dynamics_policy_only       0.440000\n",
       "highway_env_ttc_flat_az_no_policy                          0.200000\n",
       "highway_env_ttc_flat_az_policy_only                        0.320000\n",
       "highway_env_ttc_flat_no_policy                             0.960000\n",
       "highway_env_ttc_flat_policy_only                           0.460000\n",
       "highway_env_ttc_flat_recon                                 0.160000\n",
       "highway_env_ttc_flat_recon_mask                            0.040000\n",
       "highway_env_ttc_flat_recon_mask_no_policy                  0.520000\n",
       "highway_env_ttc_flat_recon_mask_policy_only                0.280000\n",
       "highway_env_ttc_flat_recon_no_policy                       0.860000\n",
       "highway_env_ttc_flat_recon_policy_only                     0.600000\n",
       "roundabout_env_ttc_flat                                    0.120000\n",
       "roundabout_env_ttc_flat_az                                 0.000000\n",
       "roundabout_env_ttc_flat_az_learned_dynamics                0.020000\n",
       "roundabout_env_ttc_flat_az_learned_dynamics_no_policy      0.063830\n",
       "roundabout_env_ttc_flat_az_learned_dynamics_policy_only    0.000000\n",
       "roundabout_env_ttc_flat_az_no_policy                       0.040000\n",
       "roundabout_env_ttc_flat_az_policy_only                     0.347826\n",
       "roundabout_env_ttc_flat_no_policy                          0.130435\n",
       "roundabout_env_ttc_flat_policy_only                        0.140000\n",
       "roundabout_env_ttc_flat_recon                              0.120000\n",
       "roundabout_env_ttc_flat_recon_mask                         0.120000\n",
       "roundabout_env_ttc_flat_recon_mask_no_policy               0.191489\n",
       "roundabout_env_ttc_flat_recon_mask_policy_only             0.100000\n",
       "roundabout_env_ttc_flat_recon_no_policy                    0.311111\n",
       "roundabout_env_ttc_flat_recon_policy_only                  0.140000\n",
       "Name: mean_episode_crashed, dtype: float64"
      ]
     },
     "execution_count": 46,
     "metadata": {},
     "output_type": "execute_result"
    }
   ],
   "source": [
    "evaluations_df.groupby('env')[\"mean_episode_crashed\"].mean()"
   ]
  },
  {
   "cell_type": "code",
   "execution_count": null,
   "metadata": {},
   "outputs": [],
   "source": []
  }
 ],
 "metadata": {
  "kernelspec": {
   "display_name": "Python 3",
   "language": "python",
   "name": "python3"
  },
  "language_info": {
   "codemirror_mode": {
    "name": "ipython",
    "version": 3
   },
   "file_extension": ".py",
   "mimetype": "text/x-python",
   "name": "python",
   "nbconvert_exporter": "python",
   "pygments_lexer": "ipython3",
   "version": "3.8.5"
  }
 },
 "nbformat": 4,
 "nbformat_minor": 5
}
